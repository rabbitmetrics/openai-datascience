{
  "nbformat": 4,
  "nbformat_minor": 0,
  "metadata": {
    "colab": {
      "provenance": [],
      "authorship_tag": "ABX9TyMP5KaYB1ramj2POdl1VrHT",
      "include_colab_link": true
    },
    "kernelspec": {
      "name": "python3",
      "display_name": "Python 3"
    },
    "language_info": {
      "name": "python"
    }
  },
  "cells": [
    {
      "cell_type": "markdown",
      "metadata": {
        "id": "view-in-github",
        "colab_type": "text"
      },
      "source": [
        "<a href=\"https://colab.research.google.com/github/rabbitmetrics/openai-datascience/blob/main/notebooks/oai_data_science.ipynb\" target=\"_parent\"><img src=\"https://colab.research.google.com/assets/colab-badge.svg\" alt=\"Open In Colab\"/></a>"
      ]
    },
    {
      "cell_type": "code",
      "execution_count": null,
      "metadata": {
        "id": "PCl353pafhmK"
      },
      "outputs": [],
      "source": [
        "!pip install -qU \\\n",
        "  openai==1.3.7 \\\n",
        "  python-dotenv==1.0.0"
      ]
    },
    {
      "cell_type": "markdown",
      "source": [
        "## Load the API keys\n",
        "Load the API keys from the env file. The env file is uploaded from your local machine to the Colab notebook by clicking the folder icon to the left and the clicking the upload icon."
      ],
      "metadata": {
        "id": "zJNmluKsfxFE"
      }
    },
    {
      "cell_type": "code",
      "source": [
        "import os\n",
        "from dotenv import load_dotenv\n",
        "load_dotenv()"
      ],
      "metadata": {
        "colab": {
          "base_uri": "https://localhost:8080/"
        },
        "id": "eaFK0Tdxfxra",
        "outputId": "2a9bf010-f326-4288-c70f-305583e7d112"
      },
      "execution_count": null,
      "outputs": [
        {
          "output_type": "execute_result",
          "data": {
            "text/plain": [
              "True"
            ]
          },
          "metadata": {},
          "execution_count": 8
        }
      ]
    },
    {
      "cell_type": "markdown",
      "source": [
        "## An OpenAI Function Call\n",
        "\n",
        "This code snippet demonstrates how to use the OpenAI Python library to interact with the GPT-4 model. When making a request, include `response_format={ \"type\": \"json_object\" }` in the API call and also explicitely tell the model to return JSON."
      ],
      "metadata": {
        "id": "6QEKkkL2gvib"
      }
    },
    {
      "cell_type": "code",
      "source": [
        "from openai import OpenAI\n",
        "client = OpenAI()"
      ],
      "metadata": {
        "id": "wLNWvTWvgwXQ"
      },
      "execution_count": null,
      "outputs": []
    },
    {
      "cell_type": "code",
      "source": [
        "customer = \"Karen Bergstromm\""
      ],
      "metadata": {
        "id": "p-6IUfskhAoA"
      },
      "execution_count": null,
      "outputs": []
    },
    {
      "cell_type": "code",
      "source": [
        "# A simple prompt to extract information from \"student_description\" in a JSON format.\n",
        "\n",
        "prompt = f'''\n",
        "Give you best guess of age and gender based on the customer name and return it as a JSON object including the name:\n",
        "\n",
        "This is the name to extract the information from:\n",
        "{customer}\n",
        "'''"
      ],
      "metadata": {
        "id": "TdG5AzEhhBkd"
      },
      "execution_count": null,
      "outputs": []
    },
    {
      "cell_type": "code",
      "source": [
        "# Generate response with GPT-4\n",
        "\n",
        "openai_response = client.chat.completions.create(\n",
        "    model = 'gpt-4-1106-preview',\n",
        "    messages = [{'role': 'user', 'content': prompt}],\n",
        "    response_format={ \"type\": \"json_object\" }\n",
        ")"
      ],
      "metadata": {
        "id": "IU7mO4muhFpO"
      },
      "execution_count": null,
      "outputs": []
    },
    {
      "cell_type": "code",
      "source": [
        "print(openai_response.choices[0].message.content)"
      ],
      "metadata": {
        "colab": {
          "base_uri": "https://localhost:8080/"
        },
        "id": "y7HyUMbf6U-P",
        "outputId": "0949292f-00a5-430c-a4ae-774d61ad0a2e"
      },
      "execution_count": null,
      "outputs": [
        {
          "output_type": "stream",
          "name": "stdout",
          "text": [
            "{\n",
            "  \"name\": \"Karen Bergstromm\",\n",
            "  \"age\": \"50-65\",\n",
            "  \"gender\": \"Female\"\n",
            "}\n"
          ]
        }
      ]
    },
    {
      "cell_type": "markdown",
      "source": [
        "# Dynamic Personas"
      ],
      "metadata": {
        "id": "bKBza-o373hX"
      }
    },
    {
      "cell_type": "code",
      "source": [
        "with open('personas.txt', 'r') as file:\n",
        "    base_personas = file.read()\n",
        "print(base_personas)"
      ],
      "metadata": {
        "colab": {
          "base_uri": "https://localhost:8080/"
        },
        "id": "bNGZ4T8X6VdD",
        "outputId": "13fd9a29-b3ac-4ed9-cd07-80992ba9b11b"
      },
      "execution_count": null,
      "outputs": [
        {
          "output_type": "stream",
          "name": "stdout",
          "text": [
            "1. Young Professional Male: Age 25-35, interested in looking stylish yet comfortable for his daily commute and office environment. He values quality and brand reputation. His goal is to maintain a professional image while expressing his personal style.\n",
            "\n",
            "2. Fitness Enthusiast Female: Age 20-30, she is a regular gym-goer and values athletic wear that is both functional and fashionable. Her goal is to stay fit and look good while doing it.\n",
            "\n",
            "3. Trendy Teenager: Age 13-19, this persona is very interested in the latest trends and what their peers are wearing. They value affordability and the 'cool' factor. Their goal is to fit in and express their developing personal style.\n",
            "\n",
            "4. Stylish Mum: Age 30-40, she is interested in looking fashionable while being able to comfortably manage her active kids. She values durability and versatility in clothing. Her goal is to maintain her sense of style while being a busy mum.\n",
            "\n",
            "5. Sporty Kid: Age 6-12, interested in sports and outdoor activities. They value comfort and fun designs in their clothing. Their goal is to have fun and be comfortable while playing.\n",
            "\n",
            "6. Fashion-forward Female: Age 18-25, she is very interested in the latest fashion trends and values unique, statement pieces. Her goal is to express her individuality through her fashion choices.\n",
            "\n",
            "7. Urban Hipster Male: Age 20-30, he is interested in urban culture and values unique, vintage-inspired designs. His goal is to express his unique style and stand out from the crowd.\n",
            "\n",
            "8. Active Retiree: Age 60+, they are interested in comfortable, quality clothing for their active lifestyle. They value durability and classic styles. Their goal is to stay active and comfortable.\n",
            "\n",
            "9. College Student: Age 18-22, interested in comfortable, versatile clothing for their busy college life. They value affordability and casual styles. Their goal is to look good without spending a lot of time or money on their wardrobe.\n",
            "\n",
            "10. Corporate Female: Age 30-45, she is interested in professional, stylish clothing for her corporate job. She values quality and classic styles. Her goal is to look professional and stylish at work.\n",
            "\n",
            "11. Young Trendsetter: Age 5-10, interested in fun, trendy clothing. They value colorful, fun designs. Their goal is to express their personality and have fun with their clothing.\n",
            "\n",
            "12. Eco-conscious Shopper: Age 20-40, they are interested in sustainable fashion and value eco-friendly products. Their goal is to support brands that align with their values.\n",
            "\n",
            "13. Luxury Lover: Age 30-50, they are interested in high-end fashion and value luxury brands. Their goal is to showcase their status and taste through their clothing.\n",
            "\n",
            "14. Casual Comfort Seeker: Age 20-60, they are interested in comfortable, casual clothing for their everyday life. They value comfort and simplicity. Their goal is to feel comfortable and relaxed in their clothing.\n",
            "\n",
            "15. Athletic Teen: Age 13-19, they are interested in sports and value athletic wear. Their goal is to perform well in their sport and look good while doing it.\n",
            "\n",
            "16. Budget-conscious Shopper: Age 18-35, they are interested in affordable fashion and value good deals. Their goal is to look stylish on a budget.\n",
            "\n",
            "17. Fashionable Dad: Age 30-45, he is interested in stylish, practical clothing for his busy life as a dad. He values durability and comfort. His goal is to look good while being a hands-on dad.\n",
            "\n",
            "18. Stylish Senior: Age 60+, they are interested in classic, quality clothing. They value comfort and timeless styles. Their goal is to look stylish and age-appropriate.\n",
            "\n",
            "19. Trendy Toddler: Age 2-5, their parents are interested in trendy, cute clothing for their toddler. They value durability and easy-to-clean materials. Their goal is to have their toddler look cute and stylish.\n",
            "\n",
            "20. High-fashion Female: Age 25-40, she is interested in high-fashion, designer pieces. She values unique, high-quality designs. Her goal is to stand out and express her high-fashion style.\n"
          ]
        }
      ]
    },
    {
      "cell_type": "code",
      "source": [
        "pip install -qU klaviyo-api==5.2.0"
      ],
      "metadata": {
        "colab": {
          "base_uri": "https://localhost:8080/"
        },
        "id": "5DQjqyP08Pe3",
        "outputId": "fd17c175-0712-479a-eb85-8e2093d47732"
      },
      "execution_count": null,
      "outputs": [
        {
          "output_type": "stream",
          "name": "stdout",
          "text": [
            "\u001b[2K     \u001b[90m━━━━━━━━━━━━━━━━━━━━━━━━━━━━━━━━━━━━━━━━\u001b[0m \u001b[32m465.3/465.3 kB\u001b[0m \u001b[31m4.4 MB/s\u001b[0m eta \u001b[36m0:00:00\u001b[0m\n",
            "\u001b[2K     \u001b[90m━━━━━━━━━━━━━━━━━━━━━━━━━━━━━━━━━━━━━━━━\u001b[0m \u001b[32m137.6/137.6 kB\u001b[0m \u001b[31m7.0 MB/s\u001b[0m eta \u001b[36m0:00:00\u001b[0m\n",
            "\u001b[?25h"
          ]
        }
      ]
    },
    {
      "cell_type": "code",
      "source": [
        "from klaviyo_api import KlaviyoAPI\n",
        "\n",
        "klaviyo_key=os.getenv('KLAVIYO_API_KEY')\n",
        "\n",
        "klaviyo = KlaviyoAPI(klaviyo_key, max_delay=60, max_retries=3, test_host=None)"
      ],
      "metadata": {
        "id": "PDkk-j4H9a9R"
      },
      "execution_count": null,
      "outputs": []
    },
    {
      "cell_type": "code",
      "source": [
        "john=\"01HK57639ZCVVAP57RZKZ0W0Z8\"\n",
        "karen=\"01HK4XAWEJE6DY8TCSMVK2G04E\""
      ],
      "metadata": {
        "id": "JXtpyDI09vkG"
      },
      "execution_count": null,
      "outputs": []
    },
    {
      "cell_type": "code",
      "source": [
        "# Function that extracts data for a customer from Klaviyo and returns as string that can be fed to LLM\n",
        "\n",
        "def customer_data(custid):\n",
        "    profile=klaviyo.Profiles.get_profile(\n",
        "        custid\n",
        "        )\n",
        "    profile_string=str(profile['data']['attributes'])\n",
        "\n",
        "    events=klaviyo.Events.get_events(fields_event=['event_properties'],\n",
        "        filter=f\"and(equals(profile_id,'{custid}'),equals(metric_id,'YtR57h'))\",\n",
        "        sort='-datetime'\n",
        "        )\n",
        "    purchases='Purchases: '\n",
        "    for e in events['data']:\n",
        "        purchases=purchases+e['attributes']['event_properties']['Name']+','\n",
        "    return profile_string+', '+purchases"
      ],
      "metadata": {
        "id": "7wZueOVe91g8"
      },
      "execution_count": null,
      "outputs": []
    },
    {
      "cell_type": "code",
      "source": [
        "# Get the data for a specific customer\n",
        "\n",
        "data=customer_data(karen)"
      ],
      "metadata": {
        "id": "IPueBZOJA0_d"
      },
      "execution_count": null,
      "outputs": []
    },
    {
      "cell_type": "code",
      "source": [
        "data"
      ],
      "metadata": {
        "colab": {
          "base_uri": "https://localhost:8080/",
          "height": 157
        },
        "id": "9KCJRPsJA2K1",
        "outputId": "860c43cc-70d8-41db-ec20-8557ff829d27"
      },
      "execution_count": null,
      "outputs": [
        {
          "output_type": "execute_result",
          "data": {
            "text/plain": [
              "\"{'email': 'karen@rabbitpromotion.com', 'phone_number': None, 'external_id': None, 'anonymous_id': None, 'first_name': 'Karen', 'last_name': 'Bergstromm', 'organization': None, 'title': None, 'image': None, 'created': '2024-01-02T11:00:58+00:00', 'updated': '2024-01-02T16:45:43+00:00', 'last_event_date': '2024-01-02T16:45:43+00:00', 'location': {'address1': 'Lyngby Hovedgade', 'address2': None, 'city': 'Kongens Lyngby', 'country': 'Denmark', 'latitude': None, 'longitude': None, 'region': None, 'zip': '2800', 'timezone': 'Europe/Copenhagen', 'ip': None}, 'properties': {'Accepts Marketing': False, 'Shopify Tags': []}, 'subscriptions': {'email': {'marketing': {'consent': 'NEVER_SUBSCRIBED', 'timestamp': None, 'method': None, 'method_detail': None, 'custom_method_detail': None, 'double_optin': None, 'suppressions': [], 'list_suppressions': []}}, 'sms': None}}, Purchases: CONVERSE | TODDLER CHUCK TAYLOR ALL STAR AXEL MID,HERSCHEL | IONA,\""
            ],
            "application/vnd.google.colaboratory.intrinsic+json": {
              "type": "string"
            }
          },
          "metadata": {},
          "execution_count": 32
        }
      ]
    },
    {
      "cell_type": "code",
      "source": [
        "persona_prompt = f'''\n",
        "I have a customer described by the data here '{data}'.Here's a reference list of Persona categories {base_personas}\n",
        "\n",
        "Give you best guess of age and gender based on the customer name.\n",
        "\n",
        "Return the following :\n",
        "\n",
        "Name\n",
        "Persona category name\n",
        "General interests\n",
        "Behaviour\n",
        "Age\n",
        "Gender\n",
        "\n",
        "\n",
        "Don't explain why just return it as a JSON object.\n",
        "\n",
        "'''"
      ],
      "metadata": {
        "id": "A5Ky7cd6A22r"
      },
      "execution_count": null,
      "outputs": []
    },
    {
      "cell_type": "code",
      "source": [
        "openai_response = client.chat.completions.create(\n",
        "    model = 'gpt-4-1106-preview',\n",
        "    messages = [{'role': 'user', 'content': persona_prompt}],\n",
        "    response_format={ \"type\": \"json_object\" }\n",
        ")\n",
        "\n",
        "persona=openai_response.choices[0].message.content\n",
        "\n",
        "print(persona)"
      ],
      "metadata": {
        "colab": {
          "base_uri": "https://localhost:8080/"
        },
        "id": "5RVvjOq5B_fE",
        "outputId": "eb8626a8-f16e-4b6b-c434-927bbcf31b60"
      },
      "execution_count": null,
      "outputs": [
        {
          "output_type": "stream",
          "name": "stdout",
          "text": [
            "{\n",
            "  \"Name\": \"Karen Bergstromm\",\n",
            "  \"Persona category name\": \"Stylish Mum\",\n",
            "  \"General interests\": \"Fashionable, comfortable clothing for managing active kids, durability, versatility\",\n",
            "  \"Behaviour\": \"Values maintaining personal style while being a busy mum\",\n",
            "  \"Age\": \"30-40\",\n",
            "  \"Gender\": \"Female\"\n",
            "}\n"
          ]
        }
      ]
    },
    {
      "cell_type": "code",
      "source": [
        "# Update a profile with persona information\n",
        "\n",
        "import json\n",
        "\n",
        "persona=json.loads(persona)\n",
        "\n",
        "payload={ \"data\": {\n",
        "        \"type\": \"profile\",\n",
        "        \"id\": karen,\n",
        "        \"attributes\": {\n",
        "            'properties':{\n",
        "                'persona':persona['Persona category name'],\n",
        "                'age':persona['Age'],\n",
        "                'gender':persona['Gender'],\n",
        "                'interest': persona['General interests'],\n",
        "                'behavior': persona['Behaviour']\n",
        "            }\n",
        "                    }\n",
        "            }\n",
        "     }\n",
        "\n",
        "klaviyo.Profiles.update_profile(karen, payload)"
      ],
      "metadata": {
        "colab": {
          "base_uri": "https://localhost:8080/"
        },
        "id": "eZJwaJa12eZs",
        "outputId": "fb516c4d-805b-458f-a4f0-e8a306bbe2f4"
      },
      "execution_count": null,
      "outputs": [
        {
          "output_type": "execute_result",
          "data": {
            "text/plain": [
              "{'data': {'type': 'profile',\n",
              "  'id': '01HK4XAWEJE6DY8TCSMVK2G04E',\n",
              "  'attributes': {'email': 'karen@rabbitpromotion.com',\n",
              "   'phone_number': None,\n",
              "   'external_id': None,\n",
              "   'anonymous_id': None,\n",
              "   'first_name': 'Karen',\n",
              "   'last_name': 'Bergstromm',\n",
              "   'organization': None,\n",
              "   'title': None,\n",
              "   'image': None,\n",
              "   'created': '2024-01-02T11:00:58+00:00',\n",
              "   'updated': '2024-01-02T20:25:17.666226+00:00',\n",
              "   'last_event_date': '2024-01-02T16:45:43+00:00',\n",
              "   'location': {'address1': 'Lyngby Hovedgade',\n",
              "    'address2': None,\n",
              "    'city': 'Kongens Lyngby',\n",
              "    'country': 'Denmark',\n",
              "    'latitude': None,\n",
              "    'longitude': None,\n",
              "    'region': None,\n",
              "    'zip': '2800',\n",
              "    'timezone': 'Europe/Copenhagen',\n",
              "    'ip': None},\n",
              "   'properties': {'Accepts Marketing': False,\n",
              "    'Shopify Tags': [],\n",
              "    'persona': 'Stylish Mum',\n",
              "    'age': '30-40',\n",
              "    'gender': 'Female',\n",
              "    'interest': 'Fashionable, comfortable clothing for managing active kids, durability, versatility',\n",
              "    'behavior': 'Values maintaining personal style while being a busy mum'},\n",
              "   'subscriptions': None},\n",
              "  'relationships': {'lists': {'links': {'self': 'https://a.klaviyo.com/api/profiles/01HK4XAWEJE6DY8TCSMVK2G04E/relationships/lists/',\n",
              "     'related': 'https://a.klaviyo.com/api/profiles/01HK4XAWEJE6DY8TCSMVK2G04E/lists/'}},\n",
              "   'segments': {'links': {'self': 'https://a.klaviyo.com/api/profiles/01HK4XAWEJE6DY8TCSMVK2G04E/relationships/segments/',\n",
              "     'related': 'https://a.klaviyo.com/api/profiles/01HK4XAWEJE6DY8TCSMVK2G04E/segments/'}}},\n",
              "  'links': {'self': 'https://a.klaviyo.com/api/profiles/01HK4XAWEJE6DY8TCSMVK2G04E/'}}}"
            ]
          },
          "metadata": {},
          "execution_count": 37
        }
      ]
    },
    {
      "cell_type": "code",
      "source": [
        "persona_name=persona['Persona category name']\n",
        "\n",
        "system_prompt=f\"\"\"You are a world class marketing algorithm that write personalized emails for fashion brands.\n",
        "                 I'm going to give you a Persona category from {base_personas}\"\"\"\n",
        "\n",
        "user_prompt=f\"\"\"Write an email marketing campaign using the Attention-Interest-Desire-Action framework to grab\n",
        "                the attention of the persona {persona_name} and persuade them to take action.\n",
        "\n",
        "                 Start with a bold statement to get their attention, present information that piques their interest,\n",
        "                 state the benefits of our product: 'Adidas Classic Sneakers' to create the desire: 'belonging'.\n",
        "\n",
        "                 Use the angle 'Increase comfort'.\n",
        "\n",
        "                 The first line should include a placeholder with first_name\n",
        "                 in double curly brackets for the name of the customer.\"\"\""
      ],
      "metadata": {
        "id": "IWvQdg4T7iEj"
      },
      "execution_count": null,
      "outputs": []
    },
    {
      "cell_type": "code",
      "source": [
        "email = client.chat.completions.create(\n",
        "    model = 'gpt-4-1106-preview',\n",
        "    messages = [{\"role\": \"system\", \"content\": system_prompt},\n",
        "                {'role': 'user', 'content': user_prompt}]\n",
        ")\n",
        "\n",
        "print(email)"
      ],
      "metadata": {
        "colab": {
          "base_uri": "https://localhost:8080/"
        },
        "id": "_WEPeATA7v77",
        "outputId": "94114f92-1029-4886-f8eb-571f5d0a3640"
      },
      "execution_count": null,
      "outputs": [
        {
          "output_type": "stream",
          "name": "stdout",
          "text": [
            "ChatCompletion(id='chatcmpl-8cfyIiDipkXfBgAR62Ilk38xjx52k', choices=[Choice(finish_reason='stop', index=0, message=ChatCompletionMessage(content=\"Subject: Unleash Effortless Style & Comfort Every Day, {{first_name}}!\\n\\nHi {{first_name}},\\n\\nAre you ready to transform your busy mum-life with the perfect blend of style and comfort? Let's do it!\\n\\n**Chase after your little ones without skipping a beat!**\\nWe understand that as a stylish mum, you're always on the move - playgrounds, school runs, and errands are just a part of your day. That's why we've crafted the ultimate solution for your active lifestyle - the Adidas Classic Sneakers. Imagine a sneaker that doesn't compromise on style or comfort, keeping you on-trend even on your busiest days.\\n\\n**Built for Mums, With Mums in Mind**\\nOur Adidas Classic Sneakers are not just any ordinary footwear. With ultra-comfortable cushioning, these sneakers are designed to pamper your feet with every step. The durable design stands up to the rigors of motherhood, making each stride as pleasant as the first, no matter how many miles you've chalked up.\\n\\n**Fashion That Feels Like Home**\\nBenefit from a shoe that checks every box - trendsetting style, unshakeable comfort, and the unmatched quality of a trusted brand. Slip into something that makes you look as good as you feel, forging a connection beyond fashion - a sense of belonging with every wear. Bid farewell to the days of choosing between chic appeal and cozy wear. \\n\\n**Be a Trendsetter at the Playground**\\nCurate a limitless wardrobe with sneakers that match any outfit. Whether it's a quick coffee run, a playdate in the park, or a casual night out, Adidas Classic Sneakers will be your go-to for turning heads while you're wrapped in absolute cosiness.\\n\\nReady to upgrade to the comfort you've always desired? Your new favorite sneakers are waiting to empower your day. Click here to embrace the comfort of Adidas Classic Sneakers and stride into effortless style.\\n\\nWalk in Comfort, Shine in Style,\\n[Your Fashion Brand]\\n\\nP.S. We know life gets busy, so we're making it simple for you. Enjoy free shipping and a seamless return policy. Your comfort is our priority, both in your shoes and with your shopping experience.\", role='assistant', function_call=None, tool_calls=None), logprobs=None)], created=1704228494, model='gpt-4-1106-preview', object='chat.completion', system_fingerprint='fp_3905aa4f79', usage=CompletionUsage(completion_tokens=451, prompt_tokens=1001, total_tokens=1452))\n"
          ]
        }
      ]
    },
    {
      "cell_type": "code",
      "source": [
        "print(email.choices[0].message.content)"
      ],
      "metadata": {
        "colab": {
          "base_uri": "https://localhost:8080/"
        },
        "id": "sQOC0FE48QOi",
        "outputId": "38a751e9-a6d5-4a16-f67e-a7c2e11997d1"
      },
      "execution_count": null,
      "outputs": [
        {
          "output_type": "stream",
          "name": "stdout",
          "text": [
            "Subject: Unleash Effortless Style & Comfort Every Day, {{first_name}}!\n",
            "\n",
            "Hi {{first_name}},\n",
            "\n",
            "Are you ready to transform your busy mum-life with the perfect blend of style and comfort? Let's do it!\n",
            "\n",
            "**Chase after your little ones without skipping a beat!**\n",
            "We understand that as a stylish mum, you're always on the move - playgrounds, school runs, and errands are just a part of your day. That's why we've crafted the ultimate solution for your active lifestyle - the Adidas Classic Sneakers. Imagine a sneaker that doesn't compromise on style or comfort, keeping you on-trend even on your busiest days.\n",
            "\n",
            "**Built for Mums, With Mums in Mind**\n",
            "Our Adidas Classic Sneakers are not just any ordinary footwear. With ultra-comfortable cushioning, these sneakers are designed to pamper your feet with every step. The durable design stands up to the rigors of motherhood, making each stride as pleasant as the first, no matter how many miles you've chalked up.\n",
            "\n",
            "**Fashion That Feels Like Home**\n",
            "Benefit from a shoe that checks every box - trendsetting style, unshakeable comfort, and the unmatched quality of a trusted brand. Slip into something that makes you look as good as you feel, forging a connection beyond fashion - a sense of belonging with every wear. Bid farewell to the days of choosing between chic appeal and cozy wear. \n",
            "\n",
            "**Be a Trendsetter at the Playground**\n",
            "Curate a limitless wardrobe with sneakers that match any outfit. Whether it's a quick coffee run, a playdate in the park, or a casual night out, Adidas Classic Sneakers will be your go-to for turning heads while you're wrapped in absolute cosiness.\n",
            "\n",
            "Ready to upgrade to the comfort you've always desired? Your new favorite sneakers are waiting to empower your day. Click here to embrace the comfort of Adidas Classic Sneakers and stride into effortless style.\n",
            "\n",
            "Walk in Comfort, Shine in Style,\n",
            "[Your Fashion Brand]\n",
            "\n",
            "P.S. We know life gets busy, so we're making it simple for you. Enjoy free shipping and a seamless return policy. Your comfort is our priority, both in your shoes and with your shopping experience.\n"
          ]
        }
      ]
    },
    {
      "cell_type": "code",
      "source": [
        "email_content=email.choices[0].message.content\n",
        "\n",
        "template = { \"data\": {\n",
        "        \"type\": \"template\",\n",
        "        \"attributes\": {\n",
        "            \"name\": \"Simple Template\",\n",
        "            \"html\": f\"\"\"\n",
        "            <html>\n",
        "                <body>\n",
        "                    {email_content}\n",
        "                </body>\n",
        "            </html>\n",
        "        \"\"\",\n",
        "            \"text\": \"hello this is a test template\",\n",
        "            \"editor_type\": \"CODE\"\n",
        "        }\n",
        "    } }"
      ],
      "metadata": {
        "id": "9u5sgQeI8mtF"
      },
      "execution_count": null,
      "outputs": []
    },
    {
      "cell_type": "code",
      "source": [
        "klaviyo.Templates.create_template(template)"
      ],
      "metadata": {
        "colab": {
          "base_uri": "https://localhost:8080/"
        },
        "id": "N6WCFYtu8ukA",
        "outputId": "adc7d1df-b61b-4bbe-c410-9e29ea3168e6"
      },
      "execution_count": null,
      "outputs": [
        {
          "output_type": "execute_result",
          "data": {
            "text/plain": [
              "{'data': {'type': 'template',\n",
              "  'id': 'RLKUnq',\n",
              "  'attributes': {'name': 'Simple Template',\n",
              "   'editor_type': 'CODE',\n",
              "   'html': \"<html>\\n<head></head><body>\\n                    Subject: Unleash Effortless Style &amp; Comfort Every Day, {{first_name}}!\\n\\nHi {{first_name}},\\n\\nAre you ready to transform your busy mum-life with the perfect blend of style and comfort? Let's do it!\\n\\n**Chase after your little ones without skipping a beat!**\\nWe understand that as a stylish mum, you're always on the move - playgrounds, school runs, and errands are just a part of your day. That's why we've crafted the ultimate solution for your active lifestyle - the Adidas Classic Sneakers. Imagine a sneaker that doesn't compromise on style or comfort, keeping you on-trend even on your busiest days.\\n\\n**Built for Mums, With Mums in Mind**\\nOur Adidas Classic Sneakers are not just any ordinary footwear. With ultra-comfortable cushioning, these sneakers are designed to pamper your feet with every step. The durable design stands up to the rigors of motherhood, making each stride as pleasant as the first, no matter how many miles you've chalked up.\\n\\n**Fashion That Feels Like Home**\\nBenefit from a shoe that checks every box - trendsetting style, unshakeable comfort, and the unmatched quality of a trusted brand. Slip into something that makes you look as good as you feel, forging a connection beyond fashion - a sense of belonging with every wear. Bid farewell to the days of choosing between chic appeal and cozy wear. \\n\\n**Be a Trendsetter at the Playground**\\nCurate a limitless wardrobe with sneakers that match any outfit. Whether it's a quick coffee run, a playdate in the park, or a casual night out, Adidas Classic Sneakers will be your go-to for turning heads while you're wrapped in absolute cosiness.\\n\\nReady to upgrade to the comfort you've always desired? Your new favorite sneakers are waiting to empower your day. Click here to embrace the comfort of Adidas Classic Sneakers and stride into effortless style.\\n\\nWalk in Comfort, Shine in Style,\\n[Your Fashion Brand]\\n\\nP.S. We know life gets busy, so we're making it simple for you. Enjoy free shipping and a seamless return policy. Your comfort is our priority, both in your shoes and with your shopping experience.\\n                </body>\\n</html>\",\n",
              "   'text': 'hello this is a test template',\n",
              "   'created': '2024-01-02T20:52:28.531653+00:00',\n",
              "   'updated': '2024-01-02T20:52:28.531689+00:00'},\n",
              "  'links': {'self': 'https://a.klaviyo.com/api/templates/RLKUnq/'}}}"
            ]
          },
          "metadata": {},
          "execution_count": 42
        }
      ]
    },
    {
      "cell_type": "markdown",
      "source": [
        "# Data Analysis with Tagging"
      ],
      "metadata": {
        "id": "bWGpRJaUXh61"
      }
    },
    {
      "cell_type": "code",
      "source": [
        "pip install -qU langchain==0.0.353"
      ],
      "metadata": {
        "colab": {
          "base_uri": "https://localhost:8080/"
        },
        "id": "jKplkbQ_XZ9t",
        "outputId": "cc24bb7a-2b3c-4c05-f4a5-94d4a49f725a"
      },
      "execution_count": null,
      "outputs": [
        {
          "output_type": "stream",
          "name": "stdout",
          "text": [
            "\u001b[2K     \u001b[90m━━━━━━━━━━━━━━━━━━━━━━━━━━━━━━━━━━━━━━━━\u001b[0m \u001b[32m803.1/803.1 kB\u001b[0m \u001b[31m4.8 MB/s\u001b[0m eta \u001b[36m0:00:00\u001b[0m\n",
            "\u001b[2K     \u001b[90m━━━━━━━━━━━━━━━━━━━━━━━━━━━━━━━━━━━━━━━━\u001b[0m \u001b[32m1.5/1.5 MB\u001b[0m \u001b[31m9.5 MB/s\u001b[0m eta \u001b[36m0:00:00\u001b[0m\n",
            "\u001b[2K     \u001b[90m━━━━━━━━━━━━━━━━━━━━━━━━━━━━━━━━━━━━━━━━\u001b[0m \u001b[32m205.7/205.7 kB\u001b[0m \u001b[31m8.7 MB/s\u001b[0m eta \u001b[36m0:00:00\u001b[0m\n",
            "\u001b[2K     \u001b[90m━━━━━━━━━━━━━━━━━━━━━━━━━━━━━━━━━━━━━━━━\u001b[0m \u001b[32m48.2/48.2 kB\u001b[0m \u001b[31m4.7 MB/s\u001b[0m eta \u001b[36m0:00:00\u001b[0m\n",
            "\u001b[2K     \u001b[90m━━━━━━━━━━━━━━━━━━━━━━━━━━━━━━━━━━━━━━━━\u001b[0m \u001b[32m49.4/49.4 kB\u001b[0m \u001b[31m4.6 MB/s\u001b[0m eta \u001b[36m0:00:00\u001b[0m\n",
            "\u001b[?25h"
          ]
        }
      ]
    },
    {
      "cell_type": "code",
      "source": [
        "import pandas as pd\n",
        "\n",
        "campaign_frame = pd.read_json('campaign_performance.json')"
      ],
      "metadata": {
        "id": "H3qCFh6mCtYj"
      },
      "execution_count": null,
      "outputs": []
    },
    {
      "cell_type": "code",
      "source": [
        "campaign_frame"
      ],
      "metadata": {
        "colab": {
          "base_uri": "https://localhost:8080/",
          "height": 443
        },
        "id": "c8ShPCtMC4Oy",
        "outputId": "514909aa-6e53-487b-ffb1-e1c17da55cfc"
      },
      "execution_count": null,
      "outputs": [
        {
          "output_type": "execute_result",
          "data": {
            "text/plain": [
              "                     campaign_id template_id       customer_id firstname  \\\n",
              "0     2AQH77VVRXGWG8VSXOEOORZ8PQ      YivXH7      AshleyChavez    Ashley   \n",
              "1     W32D9L4DV0VNK2QXGUO62BVIY7      RLKUnq        AliciaSoto    Alicia   \n",
              "2     IV6Q9BQMFD10M4OVU75BZB489L      RLKUnq        AnnaDeleon      Anna   \n",
              "3     SWG9EUT0SCB71F0F1DQFI8V74B      StAxfh         SandyGray     Sandy   \n",
              "4     S5S9KWUO2T6QDOMBSGPNNBKY6G      YivXH7  PatriciaAnderson  Patricia   \n",
              "...                          ...         ...               ...       ...   \n",
              "4995  SWG9EUT0SCB71F0F1DQFI8V74B      StAxfh  JenniferWilliams  Jennifer   \n",
              "4996  C7IZMEV17NOBKUXD6CZQMGIJSU      YivXH7    JoshuaPhillips    Joshua   \n",
              "4997  VSP3EQ8HDI3SI0DUQG5JQ74LJY      StAxfh     RobinRobinson     Robin   \n",
              "4998  6PP9RUAMVFZWLVWM593UQUJ3L5      StAxfh    KimberlyMiller  Kimberly   \n",
              "4999  0K7WWCJLNIZ5DQENCBNCOS4W8A      SgccCe         BobbyKnox     Bobby   \n",
              "\n",
              "      lastname                                 email customer_journey_stage  \\\n",
              "0       Chavez      ashleychavez@rabbitpromotion.com                loyalty   \n",
              "1         Soto        aliciasoto@rabbitpromotion.com                loyalty   \n",
              "2       Deleon        annadeleon@rabbitpromotion.com                welcome   \n",
              "3         Gray         sandygray@rabbitpromotion.com              retention   \n",
              "4     Anderson  patriciaanderson@rabbitpromotion.com                loyalty   \n",
              "...        ...                                   ...                    ...   \n",
              "4995  Williams  jenniferwilliams@rabbitpromotion.com             activation   \n",
              "4996  Phillips    joshuaphillips@rabbitpromotion.com              retention   \n",
              "4997  Robinson     robinrobinson@rabbitpromotion.com             activation   \n",
              "4998    Miller    kimberlymiller@rabbitpromotion.com              retention   \n",
              "4999      Knox         bobbyknox@rabbitpromotion.com                loyalty   \n",
              "\n",
              "      email_opened  email_clicked  email_conversion  \n",
              "0                0              0                 0  \n",
              "1                1              0                 0  \n",
              "2                1              1                 1  \n",
              "3                0              0                 0  \n",
              "4                1              0                 0  \n",
              "...            ...            ...               ...  \n",
              "4995             0              0                 0  \n",
              "4996             0              0                 0  \n",
              "4997             1              0                 0  \n",
              "4998             0              0                 0  \n",
              "4999             1              1                 1  \n",
              "\n",
              "[5000 rows x 10 columns]"
            ],
            "text/html": [
              "\n",
              "  <div id=\"df-83fbed65-00b6-4cd7-a91d-8647838746c9\" class=\"colab-df-container\">\n",
              "    <div>\n",
              "<style scoped>\n",
              "    .dataframe tbody tr th:only-of-type {\n",
              "        vertical-align: middle;\n",
              "    }\n",
              "\n",
              "    .dataframe tbody tr th {\n",
              "        vertical-align: top;\n",
              "    }\n",
              "\n",
              "    .dataframe thead th {\n",
              "        text-align: right;\n",
              "    }\n",
              "</style>\n",
              "<table border=\"1\" class=\"dataframe\">\n",
              "  <thead>\n",
              "    <tr style=\"text-align: right;\">\n",
              "      <th></th>\n",
              "      <th>campaign_id</th>\n",
              "      <th>template_id</th>\n",
              "      <th>customer_id</th>\n",
              "      <th>firstname</th>\n",
              "      <th>lastname</th>\n",
              "      <th>email</th>\n",
              "      <th>customer_journey_stage</th>\n",
              "      <th>email_opened</th>\n",
              "      <th>email_clicked</th>\n",
              "      <th>email_conversion</th>\n",
              "    </tr>\n",
              "  </thead>\n",
              "  <tbody>\n",
              "    <tr>\n",
              "      <th>0</th>\n",
              "      <td>2AQH77VVRXGWG8VSXOEOORZ8PQ</td>\n",
              "      <td>YivXH7</td>\n",
              "      <td>AshleyChavez</td>\n",
              "      <td>Ashley</td>\n",
              "      <td>Chavez</td>\n",
              "      <td>ashleychavez@rabbitpromotion.com</td>\n",
              "      <td>loyalty</td>\n",
              "      <td>0</td>\n",
              "      <td>0</td>\n",
              "      <td>0</td>\n",
              "    </tr>\n",
              "    <tr>\n",
              "      <th>1</th>\n",
              "      <td>W32D9L4DV0VNK2QXGUO62BVIY7</td>\n",
              "      <td>RLKUnq</td>\n",
              "      <td>AliciaSoto</td>\n",
              "      <td>Alicia</td>\n",
              "      <td>Soto</td>\n",
              "      <td>aliciasoto@rabbitpromotion.com</td>\n",
              "      <td>loyalty</td>\n",
              "      <td>1</td>\n",
              "      <td>0</td>\n",
              "      <td>0</td>\n",
              "    </tr>\n",
              "    <tr>\n",
              "      <th>2</th>\n",
              "      <td>IV6Q9BQMFD10M4OVU75BZB489L</td>\n",
              "      <td>RLKUnq</td>\n",
              "      <td>AnnaDeleon</td>\n",
              "      <td>Anna</td>\n",
              "      <td>Deleon</td>\n",
              "      <td>annadeleon@rabbitpromotion.com</td>\n",
              "      <td>welcome</td>\n",
              "      <td>1</td>\n",
              "      <td>1</td>\n",
              "      <td>1</td>\n",
              "    </tr>\n",
              "    <tr>\n",
              "      <th>3</th>\n",
              "      <td>SWG9EUT0SCB71F0F1DQFI8V74B</td>\n",
              "      <td>StAxfh</td>\n",
              "      <td>SandyGray</td>\n",
              "      <td>Sandy</td>\n",
              "      <td>Gray</td>\n",
              "      <td>sandygray@rabbitpromotion.com</td>\n",
              "      <td>retention</td>\n",
              "      <td>0</td>\n",
              "      <td>0</td>\n",
              "      <td>0</td>\n",
              "    </tr>\n",
              "    <tr>\n",
              "      <th>4</th>\n",
              "      <td>S5S9KWUO2T6QDOMBSGPNNBKY6G</td>\n",
              "      <td>YivXH7</td>\n",
              "      <td>PatriciaAnderson</td>\n",
              "      <td>Patricia</td>\n",
              "      <td>Anderson</td>\n",
              "      <td>patriciaanderson@rabbitpromotion.com</td>\n",
              "      <td>loyalty</td>\n",
              "      <td>1</td>\n",
              "      <td>0</td>\n",
              "      <td>0</td>\n",
              "    </tr>\n",
              "    <tr>\n",
              "      <th>...</th>\n",
              "      <td>...</td>\n",
              "      <td>...</td>\n",
              "      <td>...</td>\n",
              "      <td>...</td>\n",
              "      <td>...</td>\n",
              "      <td>...</td>\n",
              "      <td>...</td>\n",
              "      <td>...</td>\n",
              "      <td>...</td>\n",
              "      <td>...</td>\n",
              "    </tr>\n",
              "    <tr>\n",
              "      <th>4995</th>\n",
              "      <td>SWG9EUT0SCB71F0F1DQFI8V74B</td>\n",
              "      <td>StAxfh</td>\n",
              "      <td>JenniferWilliams</td>\n",
              "      <td>Jennifer</td>\n",
              "      <td>Williams</td>\n",
              "      <td>jenniferwilliams@rabbitpromotion.com</td>\n",
              "      <td>activation</td>\n",
              "      <td>0</td>\n",
              "      <td>0</td>\n",
              "      <td>0</td>\n",
              "    </tr>\n",
              "    <tr>\n",
              "      <th>4996</th>\n",
              "      <td>C7IZMEV17NOBKUXD6CZQMGIJSU</td>\n",
              "      <td>YivXH7</td>\n",
              "      <td>JoshuaPhillips</td>\n",
              "      <td>Joshua</td>\n",
              "      <td>Phillips</td>\n",
              "      <td>joshuaphillips@rabbitpromotion.com</td>\n",
              "      <td>retention</td>\n",
              "      <td>0</td>\n",
              "      <td>0</td>\n",
              "      <td>0</td>\n",
              "    </tr>\n",
              "    <tr>\n",
              "      <th>4997</th>\n",
              "      <td>VSP3EQ8HDI3SI0DUQG5JQ74LJY</td>\n",
              "      <td>StAxfh</td>\n",
              "      <td>RobinRobinson</td>\n",
              "      <td>Robin</td>\n",
              "      <td>Robinson</td>\n",
              "      <td>robinrobinson@rabbitpromotion.com</td>\n",
              "      <td>activation</td>\n",
              "      <td>1</td>\n",
              "      <td>0</td>\n",
              "      <td>0</td>\n",
              "    </tr>\n",
              "    <tr>\n",
              "      <th>4998</th>\n",
              "      <td>6PP9RUAMVFZWLVWM593UQUJ3L5</td>\n",
              "      <td>StAxfh</td>\n",
              "      <td>KimberlyMiller</td>\n",
              "      <td>Kimberly</td>\n",
              "      <td>Miller</td>\n",
              "      <td>kimberlymiller@rabbitpromotion.com</td>\n",
              "      <td>retention</td>\n",
              "      <td>0</td>\n",
              "      <td>0</td>\n",
              "      <td>0</td>\n",
              "    </tr>\n",
              "    <tr>\n",
              "      <th>4999</th>\n",
              "      <td>0K7WWCJLNIZ5DQENCBNCOS4W8A</td>\n",
              "      <td>SgccCe</td>\n",
              "      <td>BobbyKnox</td>\n",
              "      <td>Bobby</td>\n",
              "      <td>Knox</td>\n",
              "      <td>bobbyknox@rabbitpromotion.com</td>\n",
              "      <td>loyalty</td>\n",
              "      <td>1</td>\n",
              "      <td>1</td>\n",
              "      <td>1</td>\n",
              "    </tr>\n",
              "  </tbody>\n",
              "</table>\n",
              "<p>5000 rows × 10 columns</p>\n",
              "</div>\n",
              "    <div class=\"colab-df-buttons\">\n",
              "\n",
              "  <div class=\"colab-df-container\">\n",
              "    <button class=\"colab-df-convert\" onclick=\"convertToInteractive('df-83fbed65-00b6-4cd7-a91d-8647838746c9')\"\n",
              "            title=\"Convert this dataframe to an interactive table.\"\n",
              "            style=\"display:none;\">\n",
              "\n",
              "  <svg xmlns=\"http://www.w3.org/2000/svg\" height=\"24px\" viewBox=\"0 -960 960 960\">\n",
              "    <path d=\"M120-120v-720h720v720H120Zm60-500h600v-160H180v160Zm220 220h160v-160H400v160Zm0 220h160v-160H400v160ZM180-400h160v-160H180v160Zm440 0h160v-160H620v160ZM180-180h160v-160H180v160Zm440 0h160v-160H620v160Z\"/>\n",
              "  </svg>\n",
              "    </button>\n",
              "\n",
              "  <style>\n",
              "    .colab-df-container {\n",
              "      display:flex;\n",
              "      gap: 12px;\n",
              "    }\n",
              "\n",
              "    .colab-df-convert {\n",
              "      background-color: #E8F0FE;\n",
              "      border: none;\n",
              "      border-radius: 50%;\n",
              "      cursor: pointer;\n",
              "      display: none;\n",
              "      fill: #1967D2;\n",
              "      height: 32px;\n",
              "      padding: 0 0 0 0;\n",
              "      width: 32px;\n",
              "    }\n",
              "\n",
              "    .colab-df-convert:hover {\n",
              "      background-color: #E2EBFA;\n",
              "      box-shadow: 0px 1px 2px rgba(60, 64, 67, 0.3), 0px 1px 3px 1px rgba(60, 64, 67, 0.15);\n",
              "      fill: #174EA6;\n",
              "    }\n",
              "\n",
              "    .colab-df-buttons div {\n",
              "      margin-bottom: 4px;\n",
              "    }\n",
              "\n",
              "    [theme=dark] .colab-df-convert {\n",
              "      background-color: #3B4455;\n",
              "      fill: #D2E3FC;\n",
              "    }\n",
              "\n",
              "    [theme=dark] .colab-df-convert:hover {\n",
              "      background-color: #434B5C;\n",
              "      box-shadow: 0px 1px 3px 1px rgba(0, 0, 0, 0.15);\n",
              "      filter: drop-shadow(0px 1px 2px rgba(0, 0, 0, 0.3));\n",
              "      fill: #FFFFFF;\n",
              "    }\n",
              "  </style>\n",
              "\n",
              "    <script>\n",
              "      const buttonEl =\n",
              "        document.querySelector('#df-83fbed65-00b6-4cd7-a91d-8647838746c9 button.colab-df-convert');\n",
              "      buttonEl.style.display =\n",
              "        google.colab.kernel.accessAllowed ? 'block' : 'none';\n",
              "\n",
              "      async function convertToInteractive(key) {\n",
              "        const element = document.querySelector('#df-83fbed65-00b6-4cd7-a91d-8647838746c9');\n",
              "        const dataTable =\n",
              "          await google.colab.kernel.invokeFunction('convertToInteractive',\n",
              "                                                    [key], {});\n",
              "        if (!dataTable) return;\n",
              "\n",
              "        const docLinkHtml = 'Like what you see? Visit the ' +\n",
              "          '<a target=\"_blank\" href=https://colab.research.google.com/notebooks/data_table.ipynb>data table notebook</a>'\n",
              "          + ' to learn more about interactive tables.';\n",
              "        element.innerHTML = '';\n",
              "        dataTable['output_type'] = 'display_data';\n",
              "        await google.colab.output.renderOutput(dataTable, element);\n",
              "        const docLink = document.createElement('div');\n",
              "        docLink.innerHTML = docLinkHtml;\n",
              "        element.appendChild(docLink);\n",
              "      }\n",
              "    </script>\n",
              "  </div>\n",
              "\n",
              "\n",
              "<div id=\"df-a19b4f1e-7450-458e-bf67-7a6311fb4431\">\n",
              "  <button class=\"colab-df-quickchart\" onclick=\"quickchart('df-a19b4f1e-7450-458e-bf67-7a6311fb4431')\"\n",
              "            title=\"Suggest charts\"\n",
              "            style=\"display:none;\">\n",
              "\n",
              "<svg xmlns=\"http://www.w3.org/2000/svg\" height=\"24px\"viewBox=\"0 0 24 24\"\n",
              "     width=\"24px\">\n",
              "    <g>\n",
              "        <path d=\"M19 3H5c-1.1 0-2 .9-2 2v14c0 1.1.9 2 2 2h14c1.1 0 2-.9 2-2V5c0-1.1-.9-2-2-2zM9 17H7v-7h2v7zm4 0h-2V7h2v10zm4 0h-2v-4h2v4z\"/>\n",
              "    </g>\n",
              "</svg>\n",
              "  </button>\n",
              "\n",
              "<style>\n",
              "  .colab-df-quickchart {\n",
              "      --bg-color: #E8F0FE;\n",
              "      --fill-color: #1967D2;\n",
              "      --hover-bg-color: #E2EBFA;\n",
              "      --hover-fill-color: #174EA6;\n",
              "      --disabled-fill-color: #AAA;\n",
              "      --disabled-bg-color: #DDD;\n",
              "  }\n",
              "\n",
              "  [theme=dark] .colab-df-quickchart {\n",
              "      --bg-color: #3B4455;\n",
              "      --fill-color: #D2E3FC;\n",
              "      --hover-bg-color: #434B5C;\n",
              "      --hover-fill-color: #FFFFFF;\n",
              "      --disabled-bg-color: #3B4455;\n",
              "      --disabled-fill-color: #666;\n",
              "  }\n",
              "\n",
              "  .colab-df-quickchart {\n",
              "    background-color: var(--bg-color);\n",
              "    border: none;\n",
              "    border-radius: 50%;\n",
              "    cursor: pointer;\n",
              "    display: none;\n",
              "    fill: var(--fill-color);\n",
              "    height: 32px;\n",
              "    padding: 0;\n",
              "    width: 32px;\n",
              "  }\n",
              "\n",
              "  .colab-df-quickchart:hover {\n",
              "    background-color: var(--hover-bg-color);\n",
              "    box-shadow: 0 1px 2px rgba(60, 64, 67, 0.3), 0 1px 3px 1px rgba(60, 64, 67, 0.15);\n",
              "    fill: var(--button-hover-fill-color);\n",
              "  }\n",
              "\n",
              "  .colab-df-quickchart-complete:disabled,\n",
              "  .colab-df-quickchart-complete:disabled:hover {\n",
              "    background-color: var(--disabled-bg-color);\n",
              "    fill: var(--disabled-fill-color);\n",
              "    box-shadow: none;\n",
              "  }\n",
              "\n",
              "  .colab-df-spinner {\n",
              "    border: 2px solid var(--fill-color);\n",
              "    border-color: transparent;\n",
              "    border-bottom-color: var(--fill-color);\n",
              "    animation:\n",
              "      spin 1s steps(1) infinite;\n",
              "  }\n",
              "\n",
              "  @keyframes spin {\n",
              "    0% {\n",
              "      border-color: transparent;\n",
              "      border-bottom-color: var(--fill-color);\n",
              "      border-left-color: var(--fill-color);\n",
              "    }\n",
              "    20% {\n",
              "      border-color: transparent;\n",
              "      border-left-color: var(--fill-color);\n",
              "      border-top-color: var(--fill-color);\n",
              "    }\n",
              "    30% {\n",
              "      border-color: transparent;\n",
              "      border-left-color: var(--fill-color);\n",
              "      border-top-color: var(--fill-color);\n",
              "      border-right-color: var(--fill-color);\n",
              "    }\n",
              "    40% {\n",
              "      border-color: transparent;\n",
              "      border-right-color: var(--fill-color);\n",
              "      border-top-color: var(--fill-color);\n",
              "    }\n",
              "    60% {\n",
              "      border-color: transparent;\n",
              "      border-right-color: var(--fill-color);\n",
              "    }\n",
              "    80% {\n",
              "      border-color: transparent;\n",
              "      border-right-color: var(--fill-color);\n",
              "      border-bottom-color: var(--fill-color);\n",
              "    }\n",
              "    90% {\n",
              "      border-color: transparent;\n",
              "      border-bottom-color: var(--fill-color);\n",
              "    }\n",
              "  }\n",
              "</style>\n",
              "\n",
              "  <script>\n",
              "    async function quickchart(key) {\n",
              "      const quickchartButtonEl =\n",
              "        document.querySelector('#' + key + ' button');\n",
              "      quickchartButtonEl.disabled = true;  // To prevent multiple clicks.\n",
              "      quickchartButtonEl.classList.add('colab-df-spinner');\n",
              "      try {\n",
              "        const charts = await google.colab.kernel.invokeFunction(\n",
              "            'suggestCharts', [key], {});\n",
              "      } catch (error) {\n",
              "        console.error('Error during call to suggestCharts:', error);\n",
              "      }\n",
              "      quickchartButtonEl.classList.remove('colab-df-spinner');\n",
              "      quickchartButtonEl.classList.add('colab-df-quickchart-complete');\n",
              "    }\n",
              "    (() => {\n",
              "      let quickchartButtonEl =\n",
              "        document.querySelector('#df-a19b4f1e-7450-458e-bf67-7a6311fb4431 button');\n",
              "      quickchartButtonEl.style.display =\n",
              "        google.colab.kernel.accessAllowed ? 'block' : 'none';\n",
              "    })();\n",
              "  </script>\n",
              "</div>\n",
              "    </div>\n",
              "  </div>\n"
            ]
          },
          "metadata": {},
          "execution_count": 13
        }
      ]
    },
    {
      "cell_type": "code",
      "source": [
        "import requests, json\n",
        "\n",
        "url = \"https://a.klaviyo.com/api/templates/?sort=-created\"\n",
        "\n",
        "headers = {\n",
        "    \"accept\": \"application/json\",\n",
        "    \"revision\": \"2023-12-15\",\n",
        "    \"Authorization\": f'Klaviyo-API-Key {klaviyo_key}'\n",
        "}\n",
        "\n",
        "response = requests.get(url, headers=headers)\n",
        "\n",
        "templates=json.loads(response.text)['data']"
      ],
      "metadata": {
        "id": "FR9Dj2dwEdpX"
      },
      "execution_count": null,
      "outputs": []
    },
    {
      "cell_type": "code",
      "source": [
        "# Extract templates from the provided json file\n",
        "\n",
        "with open(\"templates.json\", \"r\") as read_file:\n",
        "    templates = json.load(read_file)"
      ],
      "metadata": {
        "id": "xzKk6MQ6XIIL"
      },
      "execution_count": null,
      "outputs": []
    },
    {
      "cell_type": "code",
      "source": [
        "from langchain.chat_models import ChatOpenAI\n",
        "from langchain.chains import create_tagging_chain\n",
        "\n",
        "\n",
        "schema = {\n",
        "    \"properties\": {\n",
        "        \"background color\": {\"type\": \"string\"},\n",
        "        \"font color\": {\"type\": \"string\"},\n",
        "        \"font\": {\"type\": \"string\"},\n",
        "        \"call to action\": {\"type\": \"string\"},\n",
        "        \"fontsize\": {\"type\": \"integer\"},\n",
        "        \"responsive yes no\": {\"type\": \"string\"},\n",
        "    }\n",
        "}\n",
        "\n",
        "\n",
        "chat = ChatOpenAI(temperature=0.2, model=\"gpt-4-1106-preview\")\n",
        "chain = create_tagging_chain(schema, chat)"
      ],
      "metadata": {
        "id": "m2seEPHQEsBO"
      },
      "execution_count": null,
      "outputs": []
    },
    {
      "cell_type": "code",
      "source": [
        "chain.run(templates[5]['attributes']['html'])"
      ],
      "metadata": {
        "colab": {
          "base_uri": "https://localhost:8080/"
        },
        "id": "cVu3niSBFku4",
        "outputId": "205632a7-a416-48ab-98ad-34b3a5d7d014"
      },
      "execution_count": null,
      "outputs": [
        {
          "output_type": "execute_result",
          "data": {
            "text/plain": [
              "{'background color': '#f7f7f7',\n",
              " 'font color': '#222222',\n",
              " 'call to action': 'SHOP NOW',\n",
              " 'fontsize': 14,\n",
              " 'responsive yes no': 'yes'}"
            ]
          },
          "metadata": {},
          "execution_count": 25
        }
      ]
    },
    {
      "cell_type": "code",
      "source": [
        "angles=[\"Save time\",\n",
        "        'Avoid effort',\n",
        "        'Escape mental or physical pain',\n",
        "        'Increase comfort',\n",
        "        'Improve health',\n",
        "        'Improved status and luxury',\n",
        "        'Feel loved',\n",
        "        'Be praised/appreciated']\n",
        "\n",
        "schema = {\n",
        "    \"properties\": {\n",
        "\n",
        "        \"persuasiveness\": {\n",
        "            \"type\": \"integer\",\n",
        "            \"enum\": [1, 2, 3, 4, 5],\n",
        "            \"description\": \"describes how persuasive the sales pitch is (1-5), the higher the number the more persuasive\",\n",
        "        },\n",
        "        \"marketing_angle\": {\n",
        "            \"type\": \"string\",\n",
        "            \"enum\": angles\n",
        "        },\n",
        "        \"copywriting_framework\": {\n",
        "            \"type\": \"string\"\n",
        "        },\n",
        "    },\n",
        "    \"required\": [\"persuasiveness\", \"marketing_angle\", \"copywriting_framework\"],\n",
        "}\n",
        "\n",
        "\n",
        "chain = create_tagging_chain(schema, chat)"
      ],
      "metadata": {
        "id": "jZHpfMRFJf7l"
      },
      "execution_count": null,
      "outputs": []
    },
    {
      "cell_type": "code",
      "source": [
        "template_ids=[t['id'] for t in templates[0:4]]\n",
        "plain_templates=[t for t in templates[0:4]]\n",
        "features=[chain.run(t['attributes']['html']) for t in plain_templates]\n",
        "template_dict=dict(zip(template_ids, features))"
      ],
      "metadata": {
        "id": "w3p2pa56Jny9"
      },
      "execution_count": null,
      "outputs": []
    },
    {
      "cell_type": "code",
      "source": [
        "template_dict"
      ],
      "metadata": {
        "colab": {
          "base_uri": "https://localhost:8080/"
        },
        "id": "aYC0XgTvJviJ",
        "outputId": "a988cbc1-487e-469f-843d-fc2217545e1f"
      },
      "execution_count": null,
      "outputs": [
        {
          "output_type": "execute_result",
          "data": {
            "text/plain": [
              "{'RLKUnq': {'persuasiveness': 4,\n",
              "  'marketing_angle': 'Avoid effort',\n",
              "  'copywriting_framework': 'AIDA'},\n",
              " 'StAxfh': {'persuasiveness': 4,\n",
              "  'marketing_angle': 'Increase comfort',\n",
              "  'copywriting_framework': 'AIDA (Attention, Interest, Desire, Action)'},\n",
              " 'YivXH7': {'persuasiveness': 4,\n",
              "  'marketing_angle': 'Improved status and luxury',\n",
              "  'copywriting_framework': 'AIDA'},\n",
              " 'SgccCe': {'persuasiveness': 4,\n",
              "  'marketing_angle': 'Improved status and luxury',\n",
              "  'copywriting_framework': 'AIDA (Attention, Interest, Desire, Action)'}}"
            ]
          },
          "metadata": {},
          "execution_count": 28
        }
      ]
    },
    {
      "cell_type": "code",
      "source": [
        "campaign_frame['features']=campaign_frame.apply(lambda row: template_dict[row['template_id']],axis=1)\n",
        "df_json = pd.json_normalize(campaign_frame['features'])\n",
        "df_final = campaign_frame.join(df_json)"
      ],
      "metadata": {
        "id": "pIU_gV52Jxey"
      },
      "execution_count": null,
      "outputs": []
    },
    {
      "cell_type": "code",
      "source": [
        "# What is the converstion rate for each template\n",
        "df_final.groupby('template_id')[['email_opened', 'email_clicked', 'email_conversion']].mean().reset_index()"
      ],
      "metadata": {
        "id": "j7Bd6noILhi-"
      },
      "execution_count": null,
      "outputs": []
    },
    {
      "cell_type": "code",
      "source": [
        "# What is the converstion rate for specific marketing angles\n",
        "df_final.groupby('marketing_angle')[['email_opened', 'email_clicked', 'email_conversion']].mean().reset_index()"
      ],
      "metadata": {
        "id": "9jzqaEavMCc1"
      },
      "execution_count": null,
      "outputs": []
    },
    {
      "cell_type": "code",
      "source": [
        "# What is the converstion rate for specific marketing angles for different stages of the customer journey\n",
        "df_final.groupby(['marketing_angle','customer_journey_stage'])[['email_opened', 'email_clicked', 'email_conversion']].mean().reset_index()"
      ],
      "metadata": {
        "id": "GhAeWf7YMH2d"
      },
      "execution_count": null,
      "outputs": []
    },
    {
      "cell_type": "code",
      "source": [],
      "metadata": {
        "id": "VrvXF4yLSXpv"
      },
      "execution_count": null,
      "outputs": []
    }
  ]
}